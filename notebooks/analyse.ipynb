{
 "cells": [
  {
   "cell_type": "code",
   "id": "1c038819a7e7fcd0",
   "metadata": {
    "ExecuteTime": {
     "end_time": "2025-07-26T08:55:24.483295Z",
     "start_time": "2025-07-26T08:55:24.471985Z"
    }
   },
   "source": [
    "from cmath import polar\n",
    "\n",
    "import duckdb\n",
    "import findspark\n",
    "findspark.init()\n",
    "from pyspark.sql import SparkSession\n",
    "from pyspark.sql import functions as F\n",
    "from pyspark.sql.window import Window\n",
    "from pyspark.sql.functions import trim, when\n",
    "from pyspark.sql.types import StructType, StructField, StringType, IntegerType, FloatType, DateType, LongType, \\\n",
    "    DoubleType, TimestampType, BooleanType\n",
    "import polars as pl\n",
    "from datetime import datetime\n",
    "import matplotlib.pyplot as plt\n",
    "import seaborn as sns\n",
    "import os\n"
   ],
   "outputs": [],
   "execution_count": 32
  },
  {
   "cell_type": "code",
   "id": "bbdfe2ca08357896",
   "metadata": {
    "ExecuteTime": {
     "end_time": "2025-07-26T07:04:55.484526Z",
     "start_time": "2025-07-26T07:04:51.915547Z"
    }
   },
   "source": [
    "os.environ[\"PYSPARK_PYTHON\"] = r\"D:/DataEngineer/Learn-yourself/stock-data-pipeline/.venv/Scripts/python.exe\"\n",
    "\n",
    "spark = SparkSession.builder.appName(\"Data Analysis\").getOrCreate()\n"
   ],
   "outputs": [],
   "execution_count": 4
  },
  {
   "cell_type": "markdown",
   "id": "749950affd156221",
   "metadata": {},
   "source": [
    "**1. Quan sát và phân tích Dim Companies**"
   ]
  },
  {
   "cell_type": "code",
   "id": "4258c29e75040309",
   "metadata": {
    "ExecuteTime": {
     "end_time": "2025-07-26T07:05:00.607380Z",
     "start_time": "2025-07-26T07:05:00.522099Z"
    }
   },
   "source": [
    "conn = duckdb.connect(\"../database/config_dwh/mydb.duckdb\")\n",
    "\n",
    "query = 'SELECT * FROM dim_companies'\n",
    "temp = conn.execute(query).fetchdf()\n",
    "\n",
    "conn.close()"
   ],
   "outputs": [],
   "execution_count": 5
  },
  {
   "cell_type": "code",
   "id": "4a6c8936757e2c09",
   "metadata": {
    "ExecuteTime": {
     "end_time": "2025-07-26T07:05:09.900918Z",
     "start_time": "2025-07-26T07:05:03.825558Z"
    }
   },
   "source": [
    "df_companies = spark.createDataFrame(temp)\n",
    "df_companies.printSchema()\n",
    "df_companies.show()"
   ],
   "outputs": [
    {
     "name": "stdout",
     "output_type": "stream",
     "text": [
      "root\n",
      " |-- id: long (nullable = true)\n",
      " |-- name: string (nullable = true)\n",
      " |-- ticker: string (nullable = true)\n",
      " |-- is_delisted: boolean (nullable = true)\n",
      " |-- category: string (nullable = true)\n",
      " |-- currency: string (nullable = true)\n",
      " |-- location: string (nullable = true)\n",
      " |-- exchange: string (nullable = true)\n",
      " |-- region: string (nullable = true)\n",
      " |-- industry: string (nullable = true)\n",
      " |-- sector: string (nullable = true)\n",
      " |-- sic_industry: string (nullable = true)\n",
      " |-- sic_sector: string (nullable = true)\n",
      " |-- updated_time: timestamp (nullable = true)\n",
      "\n",
      "+----+--------------------+------+-----------+--------------------+--------+--------------------+--------+-------------+--------------------+-----------------+--------------------+--------------------+--------------------+\n",
      "|  id|                name|ticker|is_delisted|            category|currency|            location|exchange|       region|            industry|           sector|        sic_industry|          sic_sector|        updated_time|\n",
      "+----+--------------------+------+-----------+--------------------+--------+--------------------+--------+-------------+--------------------+-----------------+--------------------+--------------------+--------------------+\n",
      "| 675|MILLER EXPLORATIO...|  MEXP|       true|Domestic Common S...|     USD|     Michigan; U.S.A|  NASDAQ|United States|       Oil & Gas E&P|           Energy|Crude Petroleum &...|              Mining|2025-07-26 04:45:...|\n",
      "|6146|       BIOVENTUS INC|   BVS|      false|Domestic Common S...|     USD|North Carolina; U...|  NASDAQ|United States|     Medical Devices|       Healthcare|Surgical & Medica...|       Manufacturing|2025-07-26 04:45:...|\n",
      "|6147|NATIONAL DENTEX CORP|  NADX|       true|Domestic Common S...|     USD|Massachusetts; U.S.A|  NASDAQ|United States|Diagnostics & Res...|       Healthcare|Services-Medical ...|            Services|2025-07-26 04:45:...|\n",
      "|6148|            RIDE INC| RIDE1|       true|Domestic Common S...|     USD|   Washington; U.S.A|  NASDAQ|United States|             Leisure|Consumer Cyclical|Sporting & Athlet...|       Manufacturing|2025-07-26 04:45:...|\n",
      "|6149|INFORMATION MANAG...| IMTKA|       true|Domestic Common S...|     USD|     New York; U.S.A|  NASDAQ|United States| Aerospace & Defense|      Industrials|Services-Faciliti...|            Services|2025-07-26 04:45:...|\n",
      "|6150|707 CAYMAN HOLDIN...|   JEM|      false|    ADR Common Stock|     USD|               China|  NASDAQ|United States|      Apparel Retail|Consumer Cyclical|Retail-Apparel & ...|        Retail Trade|2025-07-26 04:45:...|\n",
      "|6151|     UNS ENERGY CORP|   UNS|       true|Domestic Common S...|     USD|      Arizona; U.S.A|    NYSE|United States|Utilities - Regul...|        Utilities|   Electric Services|Transportation Co...|2025-07-26 04:45:...|\n",
      "|6152|GARDINER HEALTHCA...|  GDNR|       true|Domestic Common S...|     USD|         Ohio; U.S.A|  NASDAQ|United States|     Shell Companies|      Industrials|        Blank Checks|Finance Insurance...|2025-07-26 04:45:...|\n",
      "|6153|D & Z MEDIA ACQUI...|DNZ.WS|       true|Domestic Common S...|     USD|      Georgia; U.S.A|    NYSE|United States|     Shell Companies|      Industrials|        Blank Checks|Finance Insurance...|2025-07-26 04:45:...|\n",
      "|6154|           3COM CORP| COMS1|       true|Domestic Common S...|     USD|Massachusetts; U.S.A|  NASDAQ|United States|Communication Equ...|       Technology|Computer Communic...|       Manufacturing|2025-07-26 04:45:...|\n",
      "|6155|GP-ACT III ACQUIS...| GPATU|      false|Domestic Common S...|     USD|      Cayman Islands|  NASDAQ|United States|     Shell Companies|      Industrials|        Blank Checks|Finance Insurance...|2025-07-26 04:45:...|\n",
      "|6156|HAYMAKER ACQUISIT...|HYAC.U|      false|Domestic Common S...|     USD|     New York; U.S.A|    NYSE|United States|     Shell Companies|      Industrials|        Blank Checks|Finance Insurance...|2025-07-26 04:45:...|\n",
      "|6157|       ICON CMT CORP|  ICMT|       true|Domestic Common S...|     USD|   New Jersey; U.S.A|  NASDAQ|United States|Information Techn...|       Technology|Services-Computer...|            Services|2025-07-26 04:45:...|\n",
      "|6158|PROSHARES EQUITIE...|  EQRR|      false|                 ETF|     USD|     Maryland; U.S.A|  NASDAQ|United States|                    |                 |                    |                    |2025-07-26 04:45:...|\n",
      "|6159|       STAMPSCOM INC|  STMP|       true|Domestic Common S...|     USD|   California; U.S.A|  NASDAQ|United States|Software - Applic...|       Technology|Services-Business...|            Services|2025-07-26 04:45:...|\n",
      "|6160|INVENTRUST PROPER...|   IVT|      false|Domestic Common S...|     USD|     Illinois; U.S.A|    NYSE|United States|       REIT - Retail|      Real Estate|Real Estate Inves...|Finance Insurance...|2025-07-26 04:45:...|\n",
      "|6161|CORNER GROWTH ACQ...| TRONW|       true|Domestic Common S...|     USD|   California; U.S.A|  NASDAQ|United States|     Shell Companies|      Industrials|        Blank Checks|Finance Insurance...|2025-07-26 04:45:...|\n",
      "|6162|NEW ENGLAND BUSIN...|   NEB|       true|Domestic Common S...|     USD|Massachusetts; U.S.A|    NYSE|United States|Business Equipmen...|      Industrials|Manifold Business...|       Manufacturing|2025-07-26 04:45:...|\n",
      "|6163|ISHARES IBONDS DE...|  IBTK|      false|                 ETF|     USD|   California; U.S.A|  NASDAQ|United States|                    |                 |                    |                    |2025-07-26 04:45:...|\n",
      "|6164|GLOBAL INDEMNITY ...| GBLIZ|       true|                 ETD|     USD|      Cayman Islands|  NASDAQ|United States|                    |                 |Fire Marine & Cas...|Finance Insurance...|2025-07-26 04:45:...|\n",
      "+----+--------------------+------+-----------+--------------------+--------+--------------------+--------+-------------+--------------------+-----------------+--------------------+--------------------+--------------------+\n",
      "only showing top 20 rows\n",
      "\n"
     ]
    }
   ],
   "execution_count": 6
  },
  {
   "cell_type": "markdown",
   "id": "d7a908b2de041842",
   "metadata": {},
   "source": [
    "Lọc ra các bản ghi công ty mới nhất theo updated_time"
   ]
  },
  {
   "cell_type": "code",
   "id": "13c9ae7b-6864-4e74-ab5f-f3e21cbcb58f",
   "metadata": {
    "ExecuteTime": {
     "end_time": "2025-07-26T07:05:30.360947Z",
     "start_time": "2025-07-26T07:05:13.480746Z"
    }
   },
   "source": [
    "#Tạo window spec để phân nhóm theo ticker và sắp xếp theo updated_time giảm dần\n",
    "windowSpec = Window.partitionBy(\"ticker\").orderBy(F.desc(\"updated_time\"))\n",
    "#Sử dụng row_number để đánh số thứ tự trong mỗi nhóm\n",
    "df_companies = df_companies.withColumn(\"row_num\", F.row_number().over(windowSpec))\n",
    "#Lọc ra các bản ghi mới nhất (row_num = 1)\n",
    "df_companies = df_companies.filter(F.col(\"row_num\") == 1).drop(\"row_num\")\n",
    "#Hiển thị kết quả\n",
    "print(\"Số lượng công ty:\", df_companies.count())\n",
    "df_companies.show()"
   ],
   "outputs": [
    {
     "name": "stdout",
     "output_type": "stream",
     "text": [
      "Số lượng công ty: 23670\n",
      "+-----+--------------------+-------+-----------+--------------------+--------+-------------------+--------+-------------+--------------------+------------------+--------------------+--------------------+--------------------+\n",
      "|   id|                name| ticker|is_delisted|            category|currency|           location|exchange|       region|            industry|            sector|        sic_industry|          sic_sector|        updated_time|\n",
      "+-----+--------------------+-------+-----------+--------------------+--------+-------------------+--------+-------------+--------------------+------------------+--------------------+--------------------+--------------------+\n",
      "|15848|          ALCOA CORP|     AA|      false|Domestic Common S...|     USD|Pennsylvania; U.S.A|    NYSE|United States|            Aluminum|   Basic Materials|Primary Productio...|       Manufacturing|2025-07-26 04:45:...|\n",
      "|19606|ALTANA AKTIENGESE...|  AAAGY|       true|    ADR Common Stock|     USD|             Jordan|    NYSE|United States|       Biotechnology|        Healthcare|Pharmaceutical Pr...|       Manufacturing|2025-07-26 04:45:...|\n",
      "|23273|          ALTABA INC|   AABA|       true|                 CEF|     USD|  California; U.S.A|  NASDAQ|United States|                    |                  |                    |                    |2025-07-26 04:45:...|\n",
      "| 3977|ACCESS ANYTIME BA...|   AABC|       true|Domestic Common S...|     USD|  New Mexico; U.S.A|  NASDAQ|United States|    Banks - Regional|Financial Services|Savings Instituti...|Finance Insurance...|2025-07-26 04:45:...|\n",
      "|11708|ARTIUS II ACQUISI...|   AACB|      false|Domestic Common S...|     USD|    New York; U.S.A|  NASDAQ|United States|     Shell Companies|       Industrials|        Blank Checks|Finance Insurance...|2025-07-26 04:45:...|\n",
      "|10612|ARTIUS II ACQUISI...|  AACBR|      false|Domestic Common S...|     USD|    New York; U.S.A|  NASDAQ|United States|     Shell Companies|       Industrials|        Blank Checks|Finance Insurance...|2025-07-26 04:45:...|\n",
      "| 7818|ATA CREATIVITY GL...|   AACG|      false|    ADR Common Stock|     USD|              China|  NASDAQ|United States|Education & Train...|Consumer Defensive|Services-Educatio...|            Services|2025-07-26 04:45:...|\n",
      "| 5120|ARMADA ACQUISITIO...|  AACIU|      false|Domestic Common S...|     USD|     Cayman Islands|  NASDAQ|United States|     Shell Companies|       Industrials|        Blank Checks|Finance Insurance...|2025-07-26 04:45:...|\n",
      "|15880|ARMADA ACQUISITIO...|  AACIW|      false|Domestic Common S...|     USD|     Cayman Islands|  NASDAQ|United States|     Shell Companies|       Industrials|        Blank Checks|Finance Insurance...|2025-07-26 04:45:...|\n",
      "| 2756|ANGLO AMERICAN GO...| AAGIY1|       true|    ADR Common Stock|     USD|                   |  NASDAQ|United States|                    |                  |                    |                    |2025-07-26 04:45:...|\n",
      "|19622|ARLINGTON ASSET I...|AAIC-PB|       true|Domestic Preferre...|     USD|    Virginia; U.S.A|    NYSE|United States|     REIT - Mortgage|       Real Estate|Real Estate Inves...|Finance Insurance...|2025-07-26 04:45:...|\n",
      "| 9593|ARLINGTON ASSET I...|AAIC-PC|       true|Domestic Preferre...|     USD|    Virginia; U.S.A|    NYSE|United States|     REIT - Mortgage|       Real Estate|Real Estate Inves...|Finance Insurance...|2025-07-26 04:45:...|\n",
      "| 8938|ISHARES MSCI ALL ...|   AAIT|       true|                 ETF|     USD|                   |  NASDAQ|United States|                    |                  |                    |                    |2025-07-26 04:45:...|\n",
      "| 5241|LEVERAGE SHARES 2...|   AALG|      false|                 ETF|     USD| Connecticut; U.S.A|  NASDAQ|United States|                    |                  |                    |                    |2025-07-26 04:45:...|\n",
      "|12716|APOLLO GLOBAL MAN...| AAM-PB|       true|Domestic Preferre...|     USD|    New York; U.S.A|    NYSE|United States|    Asset Management|Financial Services|   Investment Advice|Finance Insurance...|2025-07-26 04:45:...|\n",
      "|14853|   PROG HOLDINGS INC|   AAN1|       true|Domestic Common S...|     USD|     Georgia; U.S.A|    NYSE|United States|Rental & Leasing ...|       Industrials|Services-Equipmen...|            Services|2025-07-26 04:45:...|\n",
      "| 8456|AMWAY ASIA PACIFI...|   AAP1|       true|    ADR Common Stock|     USD|          Hong Kong|    NYSE|United States|             Leisure| Consumer Cyclical|Wholesale-Drugs P...|     Wholesale Trade|2025-07-26 04:45:...|\n",
      "| 8510|           APPLE INC|   AAPL|      false|Domestic Common S...|     USD|  California; U.S.A|  NASDAQ|United States|Consumer Electronics|        Technology|Electronic Computers|       Manufacturing|2025-07-26 04:45:...|\n",
      "| 2567|AARDVARK THERAPEU...|   AARD|      false|Domestic Common S...|     USD|  California; U.S.A|  NASDAQ|United States|       Biotechnology|        Healthcare|Pharmaceutical Pr...|       Manufacturing|2025-07-26 04:45:...|\n",
      "| 3083|AMERICAN ASSETS T...|    AAT|      false|Domestic Common S...|     USD|  California; U.S.A|    NYSE|United States|  REIT - Diversified|       Real Estate|Real Estate Inves...|Finance Insurance...|2025-07-26 04:45:...|\n",
      "+-----+--------------------+-------+-----------+--------------------+--------+-------------------+--------+-------------+--------------------+------------------+--------------------+--------------------+--------------------+\n",
      "only showing top 20 rows\n",
      "\n"
     ]
    }
   ],
   "execution_count": 7
  },
  {
   "cell_type": "markdown",
   "id": "68cabea0-8565-4498-bed0-354953ae702b",
   "metadata": {},
   "source": "Thống kê số lượng mã niêm yết theo từng sàn giao dịch"
  },
  {
   "metadata": {
    "ExecuteTime": {
     "end_time": "2025-07-26T07:11:30.496196Z",
     "start_time": "2025-07-26T07:11:23.923003Z"
    }
   },
   "cell_type": "code",
   "source": [
    "df_companies.groupBy(\"exchange\").agg(F.count(\"*\").alias(\"count\")) \\\n",
    "    .withColumnRenamed(\"exchange\", \"Sàn giao dịch\") \\\n",
    "    .withColumnRenamed(\"count\", \"Số lượng mã niêm yết\") \\\n",
    "    .orderBy(F.desc(\"Số lượng mã niêm yết\")) \\\n",
    "    .show()"
   ],
   "id": "9f8d7bfda85f51cc",
   "outputs": [
    {
     "name": "stdout",
     "output_type": "stream",
     "text": [
      "+-------------+--------------------+\n",
      "|Sàn giao dịch|Số lượng mã niêm yết|\n",
      "+-------------+--------------------+\n",
      "|       NASDAQ|               15255|\n",
      "|         NYSE|                8415|\n",
      "+-------------+--------------------+\n",
      "\n"
     ]
    }
   ],
   "execution_count": 8
  },
  {
   "metadata": {},
   "cell_type": "markdown",
   "source": "Thống kê số lượng công ty theo từng quốc gia",
   "id": "afe05b2c86754b02"
  },
  {
   "metadata": {
    "ExecuteTime": {
     "end_time": "2025-07-26T07:16:33.805846Z",
     "start_time": "2025-07-26T07:16:26.962872Z"
    }
   },
   "cell_type": "code",
   "source": [
    "df_companies.withColumn(\"country\", F.element_at(F.split(F.col(\"location\"), \";\"), -1)) \\\n",
    "    .groupBy(\"country\").agg(F.count(\"*\").alias(\"count\")) \\\n",
    "    .withColumnRenamed(\"country\", \"Quốc gia\") \\\n",
    "    .withColumnRenamed(\"count\", \"Số lượng công ty\") \\\n",
    "    .orderBy(F.desc(\"Số lượng công ty\")) \\\n",
    "    .show()"
   ],
   "id": "46702570192935eb",
   "outputs": [
    {
     "name": "stdout",
     "output_type": "stream",
     "text": [
      "+--------------+----------------+\n",
      "|      Quốc gia|Số lượng công ty|\n",
      "+--------------+----------------+\n",
      "|         U.S.A|           19517|\n",
      "|              |             654|\n",
      "|         China|             594|\n",
      "|        Canada|             553|\n",
      "|United Kingdom|             281|\n",
      "|        Israel|             237|\n",
      "|Cayman Islands|             217|\n",
      "|       Bermuda|             190|\n",
      "|     Hong Kong|             143|\n",
      "|     Singapore|             113|\n",
      "|       Ireland|              83|\n",
      "|        Brazil|              75|\n",
      "|   Netherlands|              69|\n",
      "|     Australia|              68|\n",
      "|       Germany|              57|\n",
      "|    Luxembourg|              55|\n",
      "|         Japan|              54|\n",
      "|        Greece|              51|\n",
      "|   Switzerland|              48|\n",
      "|        Taiwan|              45|\n",
      "+--------------+----------------+\n",
      "only showing top 20 rows\n",
      "\n"
     ]
    }
   ],
   "execution_count": 10
  },
  {
   "metadata": {},
   "cell_type": "markdown",
   "source": "Thống kê số lượng công ty theo ngành công nghiệp:",
   "id": "975feedc64f30ecd"
  },
  {
   "metadata": {
    "ExecuteTime": {
     "end_time": "2025-07-26T07:38:40.932643Z",
     "start_time": "2025-07-26T07:38:34.084060Z"
    }
   },
   "cell_type": "code",
   "source": [
    "df_companies.groupBy(\"sector\").agg(F.count(\"*\").alias(\"count\")) \\\n",
    "    .filter(F.col(\"sector\").isNotNull() & (trim(F.col(\"sector\"))!=\"\")) \\\n",
    "    .withColumnRenamed(\"sector\", \"Ngành công nghiệp\") \\\n",
    "    .withColumnRenamed(\"count\", \"Số lượng công ty\") \\\n",
    "    .orderBy(F.desc(\"Số lượng công ty\")) \\\n",
    "    .show()"
   ],
   "id": "fc6eaeec1bf440fa",
   "outputs": [
    {
     "name": "stdout",
     "output_type": "stream",
     "text": [
      "+--------------------+----------------+\n",
      "|   Ngành công nghiệp|Số lượng công ty|\n",
      "+--------------------+----------------+\n",
      "|         Industrials|            3926|\n",
      "|          Technology|            3504|\n",
      "|          Healthcare|            3060|\n",
      "|  Financial Services|            2980|\n",
      "|   Consumer Cyclical|            1910|\n",
      "|Communication Ser...|            1166|\n",
      "|         Real Estate|            1020|\n",
      "|     Basic Materials|             861|\n",
      "|              Energy|             857|\n",
      "|  Consumer Defensive|             771|\n",
      "|           Utilities|             379|\n",
      "+--------------------+----------------+\n",
      "\n"
     ]
    }
   ],
   "execution_count": 14
  },
  {
   "metadata": {},
   "cell_type": "markdown",
   "source": "Thống kê số lượng công ty theo ngành công nghiệp SIC:",
   "id": "9ed1ce3ffc12cf34"
  },
  {
   "metadata": {
    "ExecuteTime": {
     "end_time": "2025-07-26T07:39:36.231680Z",
     "start_time": "2025-07-26T07:39:29.816058Z"
    }
   },
   "cell_type": "code",
   "source": [
    "df_companies.groupBy(\"sic_sector\").agg(F.count(\"*\").alias(\"count\")) \\\n",
    "    .filter(F.col(\"sic_sector\").isNotNull() & (trim(F.col(\"sic_sector\"))!=\"\")) \\\n",
    "    .withColumnRenamed(\"sector\", \"Ngành công nghiệp SIC\") \\\n",
    "    .withColumnRenamed(\"count\", \"Số lượng công ty\") \\\n",
    "    .orderBy(F.desc(\"Số lượng công ty\")) \\\n",
    "    .show()"
   ],
   "id": "d2bba40c97f7f9be",
   "outputs": [
    {
     "name": "stdout",
     "output_type": "stream",
     "text": [
      "+--------------------+----------------+\n",
      "|          sic_sector|Số lượng công ty|\n",
      "+--------------------+----------------+\n",
      "|       Manufacturing|            6611|\n",
      "|Finance Insurance...|            6294|\n",
      "|            Services|            3939|\n",
      "|Transportation Co...|            1747|\n",
      "|        Retail Trade|             885|\n",
      "|              Mining|             743|\n",
      "|     Wholesale Trade|             432|\n",
      "|        Construction|             177|\n",
      "|Agriculture Fores...|              72|\n",
      "+--------------------+----------------+\n",
      "\n"
     ]
    }
   ],
   "execution_count": 15
  },
  {
   "metadata": {},
   "cell_type": "markdown",
   "source": "Đếm số lượng công ty đang hoạt động vs đã hủy niêm yết",
   "id": "3d15baf159124888"
  },
  {
   "metadata": {
    "ExecuteTime": {
     "end_time": "2025-07-26T07:51:37.454333Z",
     "start_time": "2025-07-26T07:51:26.859540Z"
    }
   },
   "cell_type": "code",
   "source": [
    "df_companies \\\n",
    "    .withColumn(\n",
    "        \"Trạng thái niêm yết\",\n",
    "        when(F.col(\"is_delisted\") == True, \"Đã hủy niêm yết\")\n",
    "        .otherwise(\"Đang hoạt động\")\n",
    "    ) \\\n",
    "    .groupBy(\"Trạng thái niêm yết\") \\\n",
    "    .agg(F.count(\"*\").alias(\"Số lượng công ty\")) \\\n",
    "    .orderBy(F.desc(\"Số lượng công ty\")) \\\n",
    "    .show()"
   ],
   "id": "a2a44e3338442e5a",
   "outputs": [
    {
     "name": "stdout",
     "output_type": "stream",
     "text": [
      "+-------------------+----------------+\n",
      "|Trạng thái niêm yết|Số lượng công ty|\n",
      "+-------------------+----------------+\n",
      "|    Đã hủy niêm yết|           15818|\n",
      "|     Đang hoạt động|            7852|\n",
      "+-------------------+----------------+\n",
      "\n"
     ]
    }
   ],
   "execution_count": 18
  },
  {
   "metadata": {},
   "cell_type": "markdown",
   "source": "**2. Quan sát và phân tích Fact_candles**",
   "id": "42402e5e65c0c477"
  },
  {
   "metadata": {
    "ExecuteTime": {
     "end_time": "2025-07-26T08:18:37.806544Z",
     "start_time": "2025-07-26T08:18:37.728236Z"
    }
   },
   "cell_type": "code",
   "source": [
    "conn = duckdb.connect(\"../database/config_dwh/mydb.duckdb\")\n",
    "\n",
    "query = 'SELECT * FROM fact_candles'\n",
    "temp = conn.execute(query).fetchdf()\n",
    "print(temp)\n",
    "conn.close()"
   ],
   "id": "37f4400550f25969",
   "outputs": [
    {
     "name": "stdout",
     "output_type": "stream",
     "text": [
      "          id  company_id   volume  volume_weighted      open   close  \\\n",
      "0          1        3282    30496           9.8046    9.9750    9.66   \n",
      "1          2       18269    58132           7.1153    7.1900    7.12   \n",
      "2          3        6143    41919          20.0695   19.9500   20.04   \n",
      "3          4       20476   111650          66.2008   66.4000   66.09   \n",
      "4          5        7741  1365308         119.4873  119.0300  119.07   \n",
      "...      ...         ...      ...              ...       ...     ...   \n",
      "52985  52986       21908   367163           1.0391    1.0500    1.02   \n",
      "52986  52987       15231   357524         114.6659  115.3100  114.88   \n",
      "52987  52988         559     1868          35.6776   35.7074   35.70   \n",
      "52988  52989        8576   317538           4.1735    4.3300    4.13   \n",
      "52989  52990        1886    63578           6.9999    6.9899    6.96   \n",
      "\n",
      "           high       low     time_stamp  num_of_trades  is_otc  time_id  \n",
      "0       10.0300    9.4079  1752177600000            337    <NA>        1  \n",
      "1        7.1900    7.0700  1752177600000            255    <NA>        1  \n",
      "2       20.1500   19.9000  1752177600000            206    <NA>        1  \n",
      "3       66.4000   65.9600  1752177600000            685    <NA>        1  \n",
      "4      120.9100  118.3100  1752177600000          25673    <NA>        1  \n",
      "...         ...       ...            ...            ...     ...      ...  \n",
      "52985    1.0600    1.0100  1752868800000           1271    <NA>        7  \n",
      "52986  115.3100  113.8300  1752868800000           8847    <NA>        7  \n",
      "52987   35.7199   35.5950  1752868800000             25    <NA>        7  \n",
      "52988    4.3300    4.0800  1752868800000           3348    <NA>        7  \n",
      "52989    7.7600    6.6600  1752868800000            425    <NA>        7  \n",
      "\n",
      "[52990 rows x 12 columns]\n"
     ]
    }
   ],
   "execution_count": 21
  },
  {
   "metadata": {
    "ExecuteTime": {
     "end_time": "2025-07-26T08:32:51.639632Z",
     "start_time": "2025-07-26T08:32:51.587073Z"
    }
   },
   "cell_type": "code",
   "source": [
    "#Chuyển đổi dữ liệu cho phù hợp\n",
    "df_temp = pl.from_pandas(temp)\n",
    "df_temp = df_temp.with_columns([\n",
    "    pl.col(\"is_otc\").fill_null(False).cast(pl.Boolean),\n",
    "    pl.col(\"time_stamp\").cast(pl.Int64).cast(pl.Datetime(\"ms\"))\n",
    "])\n",
    "\n",
    "df_temp.head(5)"
   ],
   "id": "96e3d056b6af0df2",
   "outputs": [
    {
     "data": {
      "text/plain": [
       "shape: (5, 12)\n",
       "┌─────┬────────────┬─────────┬───────────────┬───┬───────────────┬──────────────┬────────┬─────────┐\n",
       "│ id  ┆ company_id ┆ volume  ┆ volume_weight ┆ … ┆ time_stamp    ┆ num_of_trade ┆ is_otc ┆ time_id │\n",
       "│ --- ┆ ---        ┆ ---     ┆ ed            ┆   ┆ ---           ┆ s            ┆ ---    ┆ ---     │\n",
       "│ i32 ┆ i32        ┆ i32     ┆ ---           ┆   ┆ datetime[ms]  ┆ ---          ┆ bool   ┆ i32     │\n",
       "│     ┆            ┆         ┆ f64           ┆   ┆               ┆ i32          ┆        ┆         │\n",
       "╞═════╪════════════╪═════════╪═══════════════╪═══╪═══════════════╪══════════════╪════════╪═════════╡\n",
       "│ 1   ┆ 3282       ┆ 30496   ┆ 9.8046        ┆ … ┆ 2025-07-10    ┆ 337          ┆ false  ┆ 1       │\n",
       "│     ┆            ┆         ┆               ┆   ┆ 20:00:00      ┆              ┆        ┆         │\n",
       "│ 2   ┆ 18269      ┆ 58132   ┆ 7.1153        ┆ … ┆ 2025-07-10    ┆ 255          ┆ false  ┆ 1       │\n",
       "│     ┆            ┆         ┆               ┆   ┆ 20:00:00      ┆              ┆        ┆         │\n",
       "│ 3   ┆ 6143       ┆ 41919   ┆ 20.0695       ┆ … ┆ 2025-07-10    ┆ 206          ┆ false  ┆ 1       │\n",
       "│     ┆            ┆         ┆               ┆   ┆ 20:00:00      ┆              ┆        ┆         │\n",
       "│ 4   ┆ 20476      ┆ 111650  ┆ 66.2008       ┆ … ┆ 2025-07-10    ┆ 685          ┆ false  ┆ 1       │\n",
       "│     ┆            ┆         ┆               ┆   ┆ 20:00:00      ┆              ┆        ┆         │\n",
       "│ 5   ┆ 7741       ┆ 1365308 ┆ 119.4873      ┆ … ┆ 2025-07-10    ┆ 25673        ┆ false  ┆ 1       │\n",
       "│     ┆            ┆         ┆               ┆   ┆ 20:00:00      ┆              ┆        ┆         │\n",
       "└─────┴────────────┴─────────┴───────────────┴───┴───────────────┴──────────────┴────────┴─────────┘"
      ],
      "text/html": [
       "<div><style>\n",
       ".dataframe > thead > tr,\n",
       ".dataframe > tbody > tr {\n",
       "  text-align: right;\n",
       "  white-space: pre-wrap;\n",
       "}\n",
       "</style>\n",
       "<small>shape: (5, 12)</small><table border=\"1\" class=\"dataframe\"><thead><tr><th>id</th><th>company_id</th><th>volume</th><th>volume_weighted</th><th>open</th><th>close</th><th>high</th><th>low</th><th>time_stamp</th><th>num_of_trades</th><th>is_otc</th><th>time_id</th></tr><tr><td>i32</td><td>i32</td><td>i32</td><td>f64</td><td>f64</td><td>f64</td><td>f64</td><td>f64</td><td>datetime[ms]</td><td>i32</td><td>bool</td><td>i32</td></tr></thead><tbody><tr><td>1</td><td>3282</td><td>30496</td><td>9.8046</td><td>9.975</td><td>9.66</td><td>10.03</td><td>9.4079</td><td>2025-07-10 20:00:00</td><td>337</td><td>false</td><td>1</td></tr><tr><td>2</td><td>18269</td><td>58132</td><td>7.1153</td><td>7.19</td><td>7.12</td><td>7.19</td><td>7.07</td><td>2025-07-10 20:00:00</td><td>255</td><td>false</td><td>1</td></tr><tr><td>3</td><td>6143</td><td>41919</td><td>20.0695</td><td>19.95</td><td>20.04</td><td>20.15</td><td>19.9</td><td>2025-07-10 20:00:00</td><td>206</td><td>false</td><td>1</td></tr><tr><td>4</td><td>20476</td><td>111650</td><td>66.2008</td><td>66.4</td><td>66.09</td><td>66.4</td><td>65.96</td><td>2025-07-10 20:00:00</td><td>685</td><td>false</td><td>1</td></tr><tr><td>5</td><td>7741</td><td>1365308</td><td>119.4873</td><td>119.03</td><td>119.07</td><td>120.91</td><td>118.31</td><td>2025-07-10 20:00:00</td><td>25673</td><td>false</td><td>1</td></tr></tbody></table></div>"
      ]
     },
     "execution_count": 26,
     "metadata": {},
     "output_type": "execute_result"
    }
   ],
   "execution_count": 26
  },
  {
   "metadata": {
    "ExecuteTime": {
     "end_time": "2025-07-26T08:57:45.154014Z",
     "start_time": "2025-07-26T08:57:39.710026Z"
    }
   },
   "cell_type": "code",
   "source": [
    "candles_schema = StructType([\n",
    "    StructField(\"id\", IntegerType(), True),\n",
    "    StructField(\"company_id\", IntegerType(), True),\n",
    "    StructField(\"volume\", LongType(), True),\n",
    "    StructField(\"volume_weighted\",DoubleType(), True),\n",
    "    StructField(\"open\", DoubleType(), True),\n",
    "    StructField(\"close\", DoubleType(), True),\n",
    "    StructField(\"high\", DoubleType(), True),\n",
    "    StructField(\"low\", DoubleType(), True),\n",
    "    StructField(\"time_stamp\", TimestampType(), True),\n",
    "    StructField(\"num_of_trades\", IntegerType(), True),\n",
    "    StructField(\"is_otc\", BooleanType(), True),\n",
    "    StructField(\"time_id\", IntegerType(), True),\n",
    "])\n",
    "\n",
    "df_candles = spark.createDataFrame(df_temp.to_pandas(), schema=candles_schema)\n",
    "df_candles.printSchema()\n",
    "df_candles.show()\n"
   ],
   "id": "e82d89f8ad056544",
   "outputs": [
    {
     "name": "stdout",
     "output_type": "stream",
     "text": [
      "root\n",
      " |-- id: integer (nullable = true)\n",
      " |-- company_id: integer (nullable = true)\n",
      " |-- volume: long (nullable = true)\n",
      " |-- volume_weighted: double (nullable = true)\n",
      " |-- open: double (nullable = true)\n",
      " |-- close: double (nullable = true)\n",
      " |-- high: double (nullable = true)\n",
      " |-- low: double (nullable = true)\n",
      " |-- time_stamp: timestamp (nullable = true)\n",
      " |-- num_of_trades: integer (nullable = true)\n",
      " |-- is_otc: boolean (nullable = true)\n",
      " |-- time_id: integer (nullable = true)\n",
      "\n",
      "+---+----------+-------+---------------+-------+------+-------+------+-------------------+-------------+------+-------+\n",
      "| id|company_id| volume|volume_weighted|   open| close|   high|   low|         time_stamp|num_of_trades|is_otc|time_id|\n",
      "+---+----------+-------+---------------+-------+------+-------+------+-------------------+-------------+------+-------+\n",
      "|  1|      3282|  30496|         9.8046|  9.975|  9.66|  10.03|9.4079|2025-07-10 20:00:00|          337| false|      1|\n",
      "|  2|     18269|  58132|         7.1153|   7.19|  7.12|   7.19|  7.07|2025-07-10 20:00:00|          255| false|      1|\n",
      "|  3|      6143|  41919|        20.0695|  19.95| 20.04|  20.15|  19.9|2025-07-10 20:00:00|          206| false|      1|\n",
      "|  4|     20476| 111650|        66.2008|   66.4| 66.09|   66.4| 65.96|2025-07-10 20:00:00|          685| false|      1|\n",
      "|  5|      7741|1365308|       119.4873| 119.03|119.07| 120.91|118.31|2025-07-10 20:00:00|        25673| false|      1|\n",
      "|  6|      8170| 357526|         25.356|  25.28| 25.53|  25.57|24.815|2025-07-10 20:00:00|         6066| false|      1|\n",
      "|  7|      5731|  24034|         1.7548|   1.78|  1.77|   1.79|1.7001|2025-07-10 20:00:00|          139| false|      1|\n",
      "|  8|      7268| 307005|         3.5175|    3.5|  3.53|   3.54|  3.49|2025-07-10 20:00:00|         1963| false|      1|\n",
      "|  9|     10634|  26910|        20.7707|  20.92| 20.72|21.0267| 20.61|2025-07-10 20:00:00|          248| false|      1|\n",
      "| 10|      2363|4056699|        68.3861|  69.11|68.545|69.3665| 67.19|2025-07-10 20:00:00|        64065| false|      1|\n",
      "| 11|     16537| 602575|       125.2315| 124.84|125.31| 125.74| 124.0|2025-07-10 20:00:00|        15223| false|      1|\n",
      "| 12|     13188|2676350|         9.2566|   9.06|  9.29|  9.345|  8.96|2025-07-10 20:00:00|        17207| false|      1|\n",
      "| 13|     17385| 185004|        17.9638|  17.75| 17.97|  18.18| 17.46|2025-07-10 20:00:00|         2726| false|      1|\n",
      "| 14|     11186|3796588|        33.6598|  32.93| 33.61| 34.065| 32.82|2025-07-10 20:00:00|        48785| false|      1|\n",
      "| 15|     12018|9558721|         0.8106|    0.6|0.6022| 0.9321| 0.535|2025-07-10 20:00:00|        25045| false|      1|\n",
      "| 16|     13208|  36162|        10.3944|10.4265| 10.36|  10.44| 10.36|2025-07-10 20:00:00|          127| false|      1|\n",
      "| 17|     17211|4148662|         95.194|  98.75| 94.41|98.9231| 94.15|2025-07-10 20:00:00|        75013| false|      1|\n",
      "| 18|      7907|     50|        369.696| 377.99| 360.0| 377.99| 360.0|2025-07-10 20:00:00|            8|  true|      1|\n",
      "| 19|     17432|5636246|       287.0758|287.885|287.52| 288.19|284.56|2025-07-10 20:00:00|       115178| false|      1|\n",
      "| 20|     18832| 671448|        61.8838|  61.24| 61.84|  62.24|61.055|2025-07-10 20:00:00|        12794| false|      1|\n",
      "+---+----------+-------+---------------+-------+------+-------+------+-------------------+-------------+------+-------+\n",
      "only showing top 20 rows\n",
      "\n"
     ]
    }
   ],
   "execution_count": 34
  },
  {
   "metadata": {},
   "cell_type": "code",
   "outputs": [],
   "execution_count": null,
   "source": "",
   "id": "a0d11959f78928ec"
  },
  {
   "metadata": {},
   "cell_type": "markdown",
   "source": "Thống kê khối lượng cổ phiếu giao dịch trong ngày",
   "id": "60e799f46a6d4f9f"
  },
  {
   "metadata": {
    "ExecuteTime": {
     "end_time": "2025-07-26T09:35:55.582668Z",
     "start_time": "2025-07-26T09:35:41.862989Z"
    }
   },
   "cell_type": "code",
   "source": [
    "df_chart = df_candles.withColumn(\"time_stamp\", F.to_date(F.col(\"time_stamp\"))) \\\n",
    "    .groupBy(\"time_stamp\") \\\n",
    "    .agg(F.sum(\"volume\").alias(\"Tổng khối lượng cổ phiếu được giao dịch trong ngày\"),\n",
    "         F.sum(\"num_of_trades\").alias(\"Tổng số giao dịch thực hiện\"),\n",
    "         F.sum(F.when(F.col(\"is_otc\")==True, 1).otherwise(0)).alias(\"Số lượng mã OTC\")) \\\n",
    "    .withColumnRenamed(\"time_stamp\", \"Ngày giao dịch\") \\\n",
    "    .orderBy(F.desc(\"Ngày giao dịch\")) \\\n",
    "\n",
    "df_chart.show()\n",
    "df_pd = df_chart.toPandas()\n",
    "\n",
    "plt.figure(figsize=(15,6))\n",
    "plt.plot(df_pd[\"Ngày giao dịch\"], df_pd[\"Tổng khối lượng cổ phiếu được giao dịch trong ngày\"], label=\"Volume\", color='red')\n",
    "plt.xlabel(\"Ngày giao dịch\")\n",
    "plt.ylabel(\"Giá trị\")\n",
    "plt.title(\"Tổng khối lượng cổ phiếu được giao dịch trong ngày\")\n",
    "plt.legend()\n",
    "plt.grid(True)\n",
    "plt.tight_layout()\n",
    "plt.show()"
   ],
   "id": "bfbf13f5394365f7",
   "outputs": [
    {
     "name": "stdout",
     "output_type": "stream",
     "text": [
      "+--------------+--------------------------------------------------+---------------------------+---------------+\n",
      "|Ngày giao dịch|Tổng khối lượng cổ phiếu được giao dịch trong ngày|Tổng số giao dịch thực hiện|Số lượng mã OTC|\n",
      "+--------------+--------------------------------------------------+---------------------------+---------------+\n",
      "|    2025-07-18|                                       14868246120|                   94118278|            392|\n",
      "|    2025-07-17|                                       16146259468|                   99023228|            422|\n",
      "|    2025-07-16|                                       14706706182|                   95234589|            388|\n",
      "|    2025-07-15|                                       13938503382|                   92813032|            409|\n",
      "|    2025-07-14|                                       12989501605|                   88622077|            409|\n",
      "|    2025-07-11|                                       13151819284|                   85369005|            391|\n",
      "|    2025-07-10|                                       15622842661|                   92330859|            390|\n",
      "+--------------+--------------------------------------------------+---------------------------+---------------+\n",
      "\n"
     ]
    },
    {
     "data": {
      "text/plain": [
       "<Figure size 1500x600 with 1 Axes>"
      ],
      "image/png": "[encoded data removed]"
     },
     "metadata": {},
     "output_type": "display_data"
    }
   ],
   "execution_count": 38
  },
  {
   "metadata": {},
   "cell_type": "markdown",
   "source": "**3. Phân tích kết hợp giữa Dim Companies và Fact Candles**",
   "id": "9a15c04131d940a4"
  },
  {
   "metadata": {},
   "cell_type": "markdown",
   "source": "Top 10 công ty có khối lượng giao dịch lớn nhất",
   "id": "bc01fcb00ab7849"
  },
  {
   "metadata": {},
   "cell_type": "code",
   "outputs": [],
   "execution_count": 40,
   "source": [
    "df_joined = df_candles.alias(\"candles\") \\\n",
    "    .join(df_companies.alias(\"companies\"), F.col(\"candles.company_id\") == F.col(\"companies.id\")) \\\n",
    "    .select(df_candles[\"*\"], df_companies[\"*\"])"
   ],
   "id": "11cb6c54a3fdfb54"
  },
  {
   "metadata": {},
   "cell_type": "code",
   "outputs": [
    {
     "name": "stdout",
     "output_type": "stream",
     "text": [
      "+-------+-----------------+\n",
      "|Công ty|Tổng số giao dịch|\n",
      "+-------+-----------------+\n",
      "|   OPEN|       2039561595|\n",
      "|   LCID|       1664044899|\n",
      "|   IXHL|       1593685063|\n",
      "|   GIBO|       1480243390|\n",
      "|   BTOG|       1379262447|\n",
      "|   NCNA|       1319356233|\n",
      "|   NVDA|       1195069486|\n",
      "|   HCTI|       1064181173|\n",
      "|   ABVE|       1001211787|\n",
      "|   BBAI|        989480904|\n",
      "+-------+-----------------+\n",
      "\n"
     ]
    }
   ],
   "execution_count": 43,
   "source": [
    "df_joined.select(\"ticker\", \"volume\") \\\n",
    "    .groupBy(\"ticker\") \\\n",
    "    .agg(F.sum(\"volume\").alias(\"Tổng số giao dịch\")) \\\n",
    "    .orderBy(F.desc(\"Tổng số giao dịch\")) \\\n",
    "    .limit(10) \\\n",
    "    .withColumnRenamed(\"ticker\", \"Công ty\") \\\n",
    "    .show()"
   ],
   "id": "f5d745bfa3595e07"
  },
  {
   "metadata": {},
   "cell_type": "markdown",
   "source": "Biểu đồ xu hướng giá cổ phiếu theo thời gian của một công ty cụ thể",
   "id": "302edd176373817e"
  },
  {
   "metadata": {
    "ExecuteTime": {
     "end_time": "2025-07-26T09:57:51.777645Z",
     "start_time": "2025-07-26T09:57:39.414427Z"
    }
   },
   "cell_type": "code",
   "source": [
    "ticker = [\"OPEN\", \"LCID\", \"IXHL\"]  # Top 3 công ty có khối lượng giao dịch lớn nhất\n",
    "\n",
    "# Lọc và xử lý dữ liệu\n",
    "df_temp = df_joined.select(\"ticker\", \"time_stamp\", \"close\") \\\n",
    "    .filter(F.col(\"ticker\").isin(ticker)) \\\n",
    "    .groupBy(\"ticker\", \"time_stamp\") \\\n",
    "    .agg(F.avg(\"close\").alias(\"Giá trung bình\")) \\\n",
    "    .orderBy(\"ticker\", \"time_stamp\") \\\n",
    "    .withColumnRenamed(\"time_stamp\", \"Ngày giao dịch\")\n",
    "\n",
    "df_pd = df_temp.toPandas()\n",
    "\n",
    "plt.figure(figsize=(14, 6))\n",
    "\n",
    "# Lặp từng ticker để vẽ riêng\n",
    "for t in ticker:\n",
    "    df_ticker = df_pd[df_pd[\"ticker\"] == t]\n",
    "    plt.plot(df_ticker[\"Ngày giao dịch\"], df_ticker[\"Giá trung bình\"], label=t)\n",
    "\n",
    "plt.xlabel(\"Ngày\")\n",
    "plt.ylabel(\"Giá trung bình đóng cửa\")\n",
    "plt.title(\"Biểu đồ xu hướng giá cổ phiếu theo thời gian\")\n",
    "plt.legend()\n",
    "plt.grid(True)\n",
    "plt.tight_layout()\n",
    "plt.show()\n"
   ],
   "id": "81deb896279facee",
   "outputs": [
    {
     "data": {
      "text/plain": [
       "<Figure size 1400x600 with 1 Axes>"
      ],
      "image/png": "[encoded data removed]"
     },
     "metadata": {},
     "output_type": "display_data"
    }
   ],
   "execution_count": 48
  },
  {
   "metadata": {},
   "cell_type": "markdown",
   "source": "**4. Quan sát và phân tích Dim News**",
   "id": "a13590ff2abdfc48"
  },
  {
   "metadata": {
    "ExecuteTime": {
     "end_time": "2025-07-26T10:13:31.129579Z",
     "start_time": "2025-07-26T10:13:31.028588Z"
    }
   },
   "cell_type": "code",
   "source": [
    "conn = duckdb.connect(\"../database/config_dwh/mydb.duckdb\")\n",
    "\n",
    "query = 'SELECT * FROM dim_news'\n",
    "temp = conn.execute(query).fetchdf()\n",
    "\n",
    "conn.close()"
   ],
   "id": "79f389aad42c03fc",
   "outputs": [],
   "execution_count": 49
  },
  {
   "metadata": {
    "ExecuteTime": {
     "end_time": "2025-07-26T10:17:58.673953Z",
     "start_time": "2025-07-26T10:17:58.647551Z"
    }
   },
   "cell_type": "code",
   "source": [
    "df_temp = pl.from_pandas(temp)\n",
    "df_temp = df_temp.with_columns(\n",
    "    pl.col(\"time_published\").str.strptime(pl.Datetime, \"%Y%m%dT%H%M%S\"),\n",
    ").drop([\"authors\",\"summary\",\"url\"])"
   ],
   "id": "c3da4743ef301e29",
   "outputs": [],
   "execution_count": 57
  },
  {
   "metadata": {
    "ExecuteTime": {
     "end_time": "2025-07-26T10:18:01.426837Z",
     "start_time": "2025-07-26T10:18:00.320471Z"
    }
   },
   "cell_type": "code",
   "source": [
    "df_news = spark.createDataFrame(df_temp.to_pandas())\n",
    "df_news.printSchema()\n",
    "df_news.show()"
   ],
   "id": "1da592d7f04228b8",
   "outputs": [
    {
     "name": "stdout",
     "output_type": "stream",
     "text": [
      "root\n",
      " |-- id: long (nullable = true)\n",
      " |-- title: string (nullable = true)\n",
      " |-- time_published: timestamp (nullable = true)\n",
      " |-- source: string (nullable = true)\n",
      " |-- overall_sentiment_score: double (nullable = true)\n",
      " |-- overall_sentiment_label: string (nullable = true)\n",
      " |-- time_id: long (nullable = true)\n",
      "\n",
      "+---+--------------------+-------------------+----------------+-----------------------+-----------------------+-------+\n",
      "| id|               title|     time_published|          source|overall_sentiment_score|overall_sentiment_label|time_id|\n",
      "+---+--------------------+-------------------+----------------+-----------------------+-----------------------+-------+\n",
      "|  1|Ligand Partner Pe...|2025-07-10 12:00:00|   GlobeNewswire|               0.273709|       Somewhat-Bullish|      1|\n",
      "|  2|e-therapeutics De...|2025-07-10 12:00:00|   GlobeNewswire|               0.332621|       Somewhat-Bullish|      1|\n",
      "|  3|Allegro MicroSyst...|2025-07-10 12:00:00|   GlobeNewswire|               0.309382|       Somewhat-Bullish|      1|\n",
      "|  4|GEN Korean BBQ Op...|2025-07-10 12:00:00|   GlobeNewswire|               0.330797|       Somewhat-Bullish|      1|\n",
      "|  5|OSS Announces $2 ...|2025-07-10 12:00:00|   GlobeNewswire|               0.178749|       Somewhat-Bullish|      1|\n",
      "|  6|Experience.com Pa...|2025-07-10 12:00:00|   GlobeNewswire|               0.482304|                Bullish|      1|\n",
      "|  7|Graham Media Grou...|2025-07-10 12:00:00|   GlobeNewswire|               0.228746|       Somewhat-Bullish|      1|\n",
      "|  8|Cycurion, Inc. An...|2025-07-10 12:00:00|   GlobeNewswire|               0.284049|       Somewhat-Bullish|      1|\n",
      "|  9|TerrAscend to Hos...|2025-07-10 12:00:00|   GlobeNewswire|               0.237334|       Somewhat-Bullish|      1|\n",
      "| 10|Acumen Pharmaceut...|2025-07-10 12:00:00|   GlobeNewswire|               0.073901|                Neutral|      1|\n",
      "| 11|CareCloud Emerges...|2025-07-10 12:00:00|   GlobeNewswire|               0.198041|       Somewhat-Bullish|      1|\n",
      "| 12|Enphase Energy Ex...|2025-07-10 12:00:00|   GlobeNewswire|               0.344725|       Somewhat-Bullish|      1|\n",
      "| 13|180 Degree Capita...|2025-07-10 12:00:00|   GlobeNewswire|                0.16208|       Somewhat-Bullish|      1|\n",
      "| 14|Aventis Energy An...|2025-07-10 12:00:00|   GlobeNewswire|               0.251312|       Somewhat-Bullish|      1|\n",
      "| 15|2 Top Tech Stocks...|2025-07-10 12:00:00|Zacks Commentary|               0.221322|       Somewhat-Bullish|      1|\n",
      "| 16|DallasNews Corpor...|2025-07-10 12:00:00|        Benzinga|               0.407962|                Bullish|      1|\n",
      "| 17|What Is Behind MP...|2025-07-10 11:57:38|        Benzinga|                0.24527|       Somewhat-Bullish|      1|\n",
      "| 18|Pentagon to becom...|2025-07-10 11:57:23|            CNBC|               0.297377|       Somewhat-Bullish|      1|\n",
      "| 19|Helen of Troy  ( ...|2025-07-10 11:55:01|Zacks Commentary|                0.14632|                Neutral|      1|\n",
      "| 20|Bitrue Backs Poli...|2025-07-10 11:54:30|        Benzinga|               0.257046|       Somewhat-Bullish|      1|\n",
      "+---+--------------------+-------------------+----------------+-----------------------+-----------------------+-------+\n",
      "only showing top 20 rows\n",
      "\n"
     ]
    }
   ],
   "execution_count": 58
  },
  {
   "metadata": {},
   "cell_type": "markdown",
   "source": "Số lượng bài báo từ các nguồn",
   "id": "de596aa66a99bc43"
  },
  {
   "metadata": {
    "ExecuteTime": {
     "end_time": "2025-07-26T10:18:56.781074Z",
     "start_time": "2025-07-26T10:18:50.861255Z"
    }
   },
   "cell_type": "code",
   "source": [
    "df_news.groupBy(\"source\") \\\n",
    "    .agg(F.count(\"*\").alias(\"Số lượng bài báo\")) \\\n",
    "    .orderBy(F.desc(\"Số lượng bài báo\")) \\\n",
    "    .withColumnRenamed(\"source\", \"Nguồn\") \\\n",
    "    .show()\n"
   ],
   "id": "2e7d1de4bf5e4e4",
   "outputs": [
    {
     "name": "stdout",
     "output_type": "stream",
     "text": [
      "+--------------------+----------------+\n",
      "|               Nguồn|Số lượng bài báo|\n",
      "+--------------------+----------------+\n",
      "|    Zacks Commentary|            3190|\n",
      "|            Benzinga|            2898|\n",
      "|       GlobeNewswire|            1078|\n",
      "|         Motley Fool|             578|\n",
      "|       Cointelegraph|             232|\n",
      "|          Decrypt.co|             132|\n",
      "|                CNBC|              87|\n",
      "|    Business Insider|              79|\n",
      "|South China Morni...|              71|\n",
      "|     Financial Times|              21|\n",
      "|      Economic Times|              20|\n",
      "|       The Economist|              11|\n",
      "+--------------------+----------------+\n",
      "\n"
     ]
    }
   ],
   "execution_count": 59
  },
  {
   "metadata": {},
   "cell_type": "markdown",
   "source": "Số lượng bài báo theo khung giờ",
   "id": "8d7c2a7385898365"
  },
  {
   "metadata": {
    "ExecuteTime": {
     "end_time": "2025-07-26T10:27:16.445742Z",
     "start_time": "2025-07-26T10:27:10.382676Z"
    }
   },
   "cell_type": "code",
   "source": [
    "df_chart = df_news.withColumn(\"hour\", F.hour(F.col(\"time_published\"))) \\\n",
    "    .groupBy(\"hour\") \\\n",
    "    .agg(F.count(\"*\").alias(\"Số lượng bài báo\")) \\\n",
    "    .orderBy(F.desc(\"Số lượng bài báo\")) \\\n",
    "    .withColumnRenamed(\"hour\", \"Khung giờ\")\n",
    "df_pd = df_chart.toPandas()\n",
    "plt.figure(figsize=(15,6))\n",
    "plt.bar(df_pd[\"Khung giờ\"], df_pd[\"Số lượng bài báo\"], color=\"skyblue\")\n",
    "plt.xticks(range(0, 24))  # đảm bảo hiển thị đủ 0–23h\n",
    "plt.xlabel(\"Giờ trong ngày\")\n",
    "plt.ylabel(\"Số lượng bài báo\")\n",
    "plt.title(\"Phân bố số lượng bài báo theo khung giờ\")\n",
    "plt.grid(axis='y')\n",
    "plt.tight_layout()\n",
    "plt.show()"
   ],
   "id": "e618c21085bc35bc",
   "outputs": [
    {
     "data": {
      "text/plain": [
       "<Figure size 1500x600 with 1 Axes>"
      ],
      "image/png": "[encoded data removed]"
     },
     "metadata": {},
     "output_type": "display_data"
    }
   ],
   "execution_count": 62
  },
  {
   "metadata": {},
   "cell_type": "markdown",
   "source": "**5. Phân tích kết hợp đa bảng**",
   "id": "ddb6039c77c00df5"
  },
  {
   "metadata": {
    "ExecuteTime": {
     "end_time": "2025-07-26T10:29:17.867589Z",
     "start_time": "2025-07-26T10:29:17.817272Z"
    }
   },
   "cell_type": "code",
   "source": [
    "conn = duckdb.connect(\"../database/config_dwh/mydb.duckdb\")\n",
    "\n",
    "query = 'SELECT * FROM fact_news_companies'\n",
    "temp = conn.execute(query).fetchdf()\n",
    "\n",
    "conn.close()"
   ],
   "id": "980134ce28aefac",
   "outputs": [],
   "execution_count": 63
  },
  {
   "metadata": {
    "ExecuteTime": {
     "end_time": "2025-07-26T10:30:19.912127Z",
     "start_time": "2025-07-26T10:30:18.748355Z"
    }
   },
   "cell_type": "code",
   "source": [
    "df_news_companies = spark.createDataFrame(temp)\n",
    "df_news_companies.printSchema()\n",
    "df_news_companies.show()"
   ],
   "id": "86bddf9a9d86dd8a",
   "outputs": [
    {
     "name": "stdout",
     "output_type": "stream",
     "text": [
      "root\n",
      " |-- id: long (nullable = true)\n",
      " |-- company_id: long (nullable = true)\n",
      " |-- new_id: long (nullable = true)\n",
      " |-- relevance_score: double (nullable = true)\n",
      " |-- ticker_sentiment_score: double (nullable = true)\n",
      " |-- ticker_sentiment_label: string (nullable = true)\n",
      "\n",
      "+---+----------+------+---------------+----------------------+----------------------+\n",
      "| id|company_id|new_id|relevance_score|ticker_sentiment_score|ticker_sentiment_label|\n",
      "+---+----------+------+---------------+----------------------+----------------------+\n",
      "|  1|      7728|     1|       0.061473|              0.158164|      Somewhat-Bullish|\n",
      "|  2|     10737|     1|       0.122581|              0.029556|               Neutral|\n",
      "|  3|     21199|     1|       0.061473|              0.158164|      Somewhat-Bullish|\n",
      "|  4|     20079|     1|       0.061473|              0.158164|      Somewhat-Bullish|\n",
      "|  5|      4631|     2|       0.059049|              0.184128|      Somewhat-Bullish|\n",
      "|  6|     18006|     2|       0.059049|              0.184128|      Somewhat-Bullish|\n",
      "|  7|     17072|     2|       0.059049|              0.184128|      Somewhat-Bullish|\n",
      "|  8|     17952|     3|       0.443626|              0.373767|               Bullish|\n",
      "|  9|      9737|     4|       0.122894|               0.13515|               Neutral|\n",
      "| 10|      1357|     4|        0.24289|              0.153026|      Somewhat-Bullish|\n",
      "| 11|      8623|     5|       0.626124|               0.20672|      Somewhat-Bullish|\n",
      "| 12|     10358|     6|       0.540534|              0.534972|               Bullish|\n",
      "| 13|     21692|     7|       0.105836|              0.138579|               Neutral|\n",
      "| 14|      5199|     8|       0.535653|              0.317135|      Somewhat-Bullish|\n",
      "| 15|     14978|    10|       0.045655|             -0.068085|               Neutral|\n",
      "| 16|     15235|    10|       0.181137|              0.097349|               Neutral|\n",
      "| 17|      2700|    11|       0.288327|              0.493443|               Bullish|\n",
      "| 18|     18917|    12|       0.109289|             -0.060756|               Neutral|\n",
      "| 19|      7403|    12|       0.319817|               0.25816|      Somewhat-Bullish|\n",
      "| 20|     11443|    13|       0.435177|               0.18117|      Somewhat-Bullish|\n",
      "+---+----------+------+---------------+----------------------+----------------------+\n",
      "only showing top 20 rows\n",
      "\n"
     ]
    }
   ],
   "execution_count": 64
  },
  {
   "metadata": {
    "ExecuteTime": {
     "end_time": "2025-07-26T10:35:13.227834Z",
     "start_time": "2025-07-26T10:35:13.194688Z"
    }
   },
   "cell_type": "code",
   "source": [
    "conn = duckdb.connect(\"../database/config_dwh/mydb.duckdb\")\n",
    "\n",
    "query = 'SELECT * FROM dim_time'\n",
    "temp = conn.execute(query).fetchdf()\n",
    "\n",
    "conn.close()"
   ],
   "id": "b6973bca3a511029",
   "outputs": [],
   "execution_count": 65
  },
  {
   "metadata": {
    "ExecuteTime": {
     "end_time": "2025-07-26T10:35:49.048038Z",
     "start_time": "2025-07-26T10:35:43.364123Z"
    }
   },
   "cell_type": "code",
   "source": [
    "df_time = spark.createDataFrame(temp)\n",
    "df_time.printSchema()\n",
    "df_time.show()"
   ],
   "id": "c7c7492cc8be4563",
   "outputs": [
    {
     "name": "stdout",
     "output_type": "stream",
     "text": [
      "root\n",
      " |-- id: long (nullable = true)\n",
      " |-- date: timestamp (nullable = true)\n",
      " |-- day_of_week: string (nullable = true)\n",
      " |-- month: string (nullable = true)\n",
      " |-- quarter: string (nullable = true)\n",
      " |-- year: long (nullable = true)\n",
      "\n",
      "+---+-------------------+-----------+-----+-------+----+\n",
      "| id|               date|day_of_week|month|quarter|year|\n",
      "+---+-------------------+-----------+-----+-------+----+\n",
      "|  1|2025-07-10 00:00:00|   Thursday| July|      3|2025|\n",
      "|  2|2025-07-11 00:00:00|     Friday| July|      3|2025|\n",
      "|  3|2025-07-14 00:00:00|     Monday| July|      3|2025|\n",
      "|  4|2025-07-15 00:00:00|    Tuesday| July|      3|2025|\n",
      "|  5|2025-07-16 00:00:00|  Wednesday| July|      3|2025|\n",
      "|  6|2025-07-17 00:00:00|   Thursday| July|      3|2025|\n",
      "|  7|2025-07-18 00:00:00|     Friday| July|      3|2025|\n",
      "+---+-------------------+-----------+-----+-------+----+\n",
      "\n"
     ]
    }
   ],
   "execution_count": 66
  },
  {
   "metadata": {},
   "cell_type": "markdown",
   "source": "Công ty được báo chí đề cập nhiều nhất",
   "id": "d6ae9920edbe38c2"
  },
  {
   "metadata": {
    "ExecuteTime": {
     "end_time": "2025-07-26T11:19:50.152998Z",
     "start_time": "2025-07-26T11:19:26.634546Z"
    }
   },
   "cell_type": "code",
   "source": [
    "df_num_mentions = df_news_companies \\\n",
    "    .join(df_news, df_news_companies[\"new_id\"] == df_news[\"id\"]) \\\n",
    "    .join(df_companies, df_news_companies[\"company_id\"] == df_companies[\"id\"]) \\\n",
    "    .join(df_time, df_news[\"time_id\"] == df_time[\"id\"]) \\\n",
    "    .groupBy(\"ticker\", \"date\") \\\n",
    "    .agg(F.count(\"*\").alias(\"num_mentions\")) \\\n",
    "    .orderBy(\"date\", F.desc(\"num_mentions\"))\n",
    "df_num_mentions.show()\n"
   ],
   "id": "699630f54e529480",
   "outputs": [
    {
     "name": "stdout",
     "output_type": "stream",
     "text": [
      "+------+-------------------+------------+\n",
      "|ticker|               date|num_mentions|\n",
      "+------+-------------------+------------+\n",
      "|  GOOG|2025-07-10 00:00:00|          66|\n",
      "|  NVDA|2025-07-10 00:00:00|          58|\n",
      "|  META|2025-07-10 00:00:00|          55|\n",
      "|  MSFT|2025-07-10 00:00:00|          40|\n",
      "|  TSLA|2025-07-10 00:00:00|          29|\n",
      "|  AAPL|2025-07-10 00:00:00|          25|\n",
      "|    GS|2025-07-10 00:00:00|          20|\n",
      "|  AMZN|2025-07-10 00:00:00|          20|\n",
      "|  COIN|2025-07-10 00:00:00|          20|\n",
      "|   DAL|2025-07-10 00:00:00|          18|\n",
      "|   WFC|2025-07-10 00:00:00|          17|\n",
      "|     C|2025-07-10 00:00:00|          17|\n",
      "|  ENGS|2025-07-10 00:00:00|          14|\n",
      "|   BAC|2025-07-10 00:00:00|          12|\n",
      "|    MS|2025-07-10 00:00:00|          11|\n",
      "|   BCS|2025-07-10 00:00:00|          11|\n",
      "|   UAL|2025-07-10 00:00:00|          10|\n",
      "|    MP|2025-07-10 00:00:00|          10|\n",
      "|  PLTR|2025-07-10 00:00:00|          10|\n",
      "|  FTRK|2025-07-10 00:00:00|           9|\n",
      "+------+-------------------+------------+\n",
      "only showing top 20 rows\n",
      "\n"
     ]
    }
   ],
   "execution_count": 77
  },
  {
   "metadata": {},
   "cell_type": "markdown",
   "source": "Top 10 bài báo có sentiment thấp nhất (theo từng công ty)",
   "id": "571f4dd87328c4cb"
  },
  {
   "metadata": {
    "ExecuteTime": {
     "end_time": "2025-07-26T11:23:31.432591Z",
     "start_time": "2025-07-26T11:23:09.818019Z"
    }
   },
   "cell_type": "code",
   "source": [
    "df_top_negative_news = df_news_companies \\\n",
    "    .join(df_news, df_news_companies[\"new_id\"] == df_news[\"id\"]) \\\n",
    "    .join(df_companies, df_news_companies[\"company_id\"] == df_companies[\"id\"]) \\\n",
    "    .select(\"ticker\", \"title\", \"ticker_sentiment_score\") \\\n",
    "    .orderBy(\"ticker_sentiment_score\") \\\n",
    "    .limit(10)\n",
    "df_top_negative_news.show()"
   ],
   "id": "143e5e80b16140f1",
   "outputs": [
    {
     "name": "stdout",
     "output_type": "stream",
     "text": [
      "+------+--------------------+----------------------+\n",
      "|ticker|               title|ticker_sentiment_score|\n",
      "+------+--------------------+----------------------+\n",
      "|  MSFT|A Message to All ...|             -0.697516|\n",
      "|  INTC|Should You Buy In...|             -0.624675|\n",
      "|  UBER|Tesla Stock Is Fa...|             -0.585034|\n",
      "|  SCAG|Frequency Electro...|             -0.573381|\n",
      "|   PFE|A Message to All ...|             -0.565108|\n",
      "|  SBUX|A Message to All ...|             -0.565108|\n",
      "|  COST|A Message to All ...|             -0.565108|\n",
      "|  NVDA|A Message to All ...|             -0.565108|\n",
      "|    VZ|Yielding 6.3%, Is...|             -0.553461|\n",
      "|   KHC|Company News for ...|             -0.546766|\n",
      "+------+--------------------+----------------------+\n",
      "\n"
     ]
    }
   ],
   "execution_count": 78
  }
 ],
 "metadata": {
  "kernelspec": {
   "display_name": "Python 3 (ipykernel)",
   "language": "python",
   "name": "python3"
  },
  "language_info": {
   "codemirror_mode": {
    "name": "ipython",
    "version": 3
   },
   "file_extension": ".py",
   "mimetype": "text/x-python",
   "name": "python",
   "nbconvert_exporter": "python",
   "pygments_lexer": "ipython3",
   "version": "3.9.13"
  }
 },
 "nbformat": 4,
 "nbformat_minor": 5
}
